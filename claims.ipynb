{
 "cells": [
  {
   "cell_type": "code",
   "execution_count": 1,
   "id": "b3a5985c",
   "metadata": {},
   "outputs": [],
   "source": [
    "import numpy as np\n",
    "import pandas as pd\n",
    "import matplotlib.pyplot as plt\n",
    "import seaborn as sns"
   ]
  },
  {
   "cell_type": "code",
   "execution_count": 2,
   "id": "04bea7c7",
   "metadata": {},
   "outputs": [],
   "source": [
    "df = pd.read_csv('/Users/juechenlee/Desktop/claims.csv')"
   ]
  },
  {
   "cell_type": "code",
   "execution_count": 3,
   "id": "d8b47867",
   "metadata": {},
   "outputs": [
    {
     "data": {
      "text/html": [
       "<div>\n",
       "<style scoped>\n",
       "    .dataframe tbody tr th:only-of-type {\n",
       "        vertical-align: middle;\n",
       "    }\n",
       "\n",
       "    .dataframe tbody tr th {\n",
       "        vertical-align: top;\n",
       "    }\n",
       "\n",
       "    .dataframe thead th {\n",
       "        text-align: right;\n",
       "    }\n",
       "</style>\n",
       "<table border=\"1\" class=\"dataframe\">\n",
       "  <thead>\n",
       "    <tr style=\"text-align: right;\">\n",
       "      <th></th>\n",
       "      <th>Claim ID</th>\n",
       "      <th>Time to Close</th>\n",
       "      <th>Claim Amount</th>\n",
       "      <th>Amount Paid</th>\n",
       "      <th>Location</th>\n",
       "      <th>Individuals on Claim</th>\n",
       "      <th>Linked Cases</th>\n",
       "      <th>Cause</th>\n",
       "    </tr>\n",
       "  </thead>\n",
       "  <tbody>\n",
       "    <tr>\n",
       "      <th>0</th>\n",
       "      <td>0000000-00.2010.0.00.0094</td>\n",
       "      <td>2082</td>\n",
       "      <td>R$50,000.00</td>\n",
       "      <td>34297.47</td>\n",
       "      <td>RECIFE</td>\n",
       "      <td>2</td>\n",
       "      <td>False</td>\n",
       "      <td>NaN</td>\n",
       "    </tr>\n",
       "    <tr>\n",
       "      <th>1</th>\n",
       "      <td>0000000-00.2011.0.00.0086</td>\n",
       "      <td>3591</td>\n",
       "      <td>R$180,000.00</td>\n",
       "      <td>56383.54</td>\n",
       "      <td>SAO LUIS</td>\n",
       "      <td>7</td>\n",
       "      <td>False</td>\n",
       "      <td>NaN</td>\n",
       "    </tr>\n",
       "    <tr>\n",
       "      <th>2</th>\n",
       "      <td>0000000-00.2012.0.00.0092</td>\n",
       "      <td>2997</td>\n",
       "      <td>R$70,000.00</td>\n",
       "      <td>12366.76</td>\n",
       "      <td>SAO LUIS</td>\n",
       "      <td>3</td>\n",
       "      <td>False</td>\n",
       "      <td>vegetables</td>\n",
       "    </tr>\n",
       "    <tr>\n",
       "      <th>3</th>\n",
       "      <td>0000000-00.2013.0.00.0096</td>\n",
       "      <td>1143</td>\n",
       "      <td>R$95,104.00</td>\n",
       "      <td>29217.16</td>\n",
       "      <td>FORTALEZA</td>\n",
       "      <td>4</td>\n",
       "      <td>False</td>\n",
       "      <td>NaN</td>\n",
       "    </tr>\n",
       "    <tr>\n",
       "      <th>4</th>\n",
       "      <td>0000000-00.2014.0.00.0097</td>\n",
       "      <td>117</td>\n",
       "      <td>R$29,000.00</td>\n",
       "      <td>12610.50</td>\n",
       "      <td>FORTALEZA</td>\n",
       "      <td>1</td>\n",
       "      <td>False</td>\n",
       "      <td>meat</td>\n",
       "    </tr>\n",
       "    <tr>\n",
       "      <th>...</th>\n",
       "      <td>...</td>\n",
       "      <td>...</td>\n",
       "      <td>...</td>\n",
       "      <td>...</td>\n",
       "      <td>...</td>\n",
       "      <td>...</td>\n",
       "      <td>...</td>\n",
       "      <td>...</td>\n",
       "    </tr>\n",
       "    <tr>\n",
       "      <th>93</th>\n",
       "      <td>0000000-00.2020.0.00.0023</td>\n",
       "      <td>208</td>\n",
       "      <td>R$80,396.00</td>\n",
       "      <td>40668.14</td>\n",
       "      <td>FORTALEZA</td>\n",
       "      <td>3</td>\n",
       "      <td>False</td>\n",
       "      <td>meat</td>\n",
       "    </tr>\n",
       "    <tr>\n",
       "      <th>94</th>\n",
       "      <td>0000000-00.2020.0.00.0057</td>\n",
       "      <td>86</td>\n",
       "      <td>R$50,000.00</td>\n",
       "      <td>8363.96</td>\n",
       "      <td>FORTALEZA</td>\n",
       "      <td>2</td>\n",
       "      <td>False</td>\n",
       "      <td>NaN</td>\n",
       "    </tr>\n",
       "    <tr>\n",
       "      <th>95</th>\n",
       "      <td>0000000-00.2020.0.00.0010</td>\n",
       "      <td>201</td>\n",
       "      <td>R$60,000.00</td>\n",
       "      <td>42318.80</td>\n",
       "      <td>NATAL</td>\n",
       "      <td>2</td>\n",
       "      <td>False</td>\n",
       "      <td>NaN</td>\n",
       "    </tr>\n",
       "    <tr>\n",
       "      <th>96</th>\n",
       "      <td>0000000-00.2020.0.00.0059</td>\n",
       "      <td>200</td>\n",
       "      <td>R$474,542.00</td>\n",
       "      <td>329473.49</td>\n",
       "      <td>NATAL</td>\n",
       "      <td>20</td>\n",
       "      <td>True</td>\n",
       "      <td>NaN</td>\n",
       "    </tr>\n",
       "    <tr>\n",
       "      <th>97</th>\n",
       "      <td>0000000-00.2020.0.00.0073</td>\n",
       "      <td>195</td>\n",
       "      <td>R$40,000.00</td>\n",
       "      <td>15406.95</td>\n",
       "      <td>NATAL</td>\n",
       "      <td>1</td>\n",
       "      <td>False</td>\n",
       "      <td>NaN</td>\n",
       "    </tr>\n",
       "  </tbody>\n",
       "</table>\n",
       "<p>98 rows × 8 columns</p>\n",
       "</div>"
      ],
      "text/plain": [
       "                     Claim ID  Time to Close  Claim Amount  Amount Paid  \\\n",
       "0   0000000-00.2010.0.00.0094           2082   R$50,000.00     34297.47   \n",
       "1   0000000-00.2011.0.00.0086           3591  R$180,000.00     56383.54   \n",
       "2   0000000-00.2012.0.00.0092           2997   R$70,000.00     12366.76   \n",
       "3   0000000-00.2013.0.00.0096           1143   R$95,104.00     29217.16   \n",
       "4   0000000-00.2014.0.00.0097            117   R$29,000.00     12610.50   \n",
       "..                        ...            ...           ...          ...   \n",
       "93  0000000-00.2020.0.00.0023            208   R$80,396.00     40668.14   \n",
       "94  0000000-00.2020.0.00.0057             86   R$50,000.00      8363.96   \n",
       "95  0000000-00.2020.0.00.0010            201   R$60,000.00     42318.80   \n",
       "96  0000000-00.2020.0.00.0059            200  R$474,542.00    329473.49   \n",
       "97  0000000-00.2020.0.00.0073            195   R$40,000.00     15406.95   \n",
       "\n",
       "     Location  Individuals on Claim  Linked Cases       Cause  \n",
       "0      RECIFE                     2         False         NaN  \n",
       "1    SAO LUIS                     7         False         NaN  \n",
       "2    SAO LUIS                     3         False  vegetables  \n",
       "3   FORTALEZA                     4         False         NaN  \n",
       "4   FORTALEZA                     1         False        meat  \n",
       "..        ...                   ...           ...         ...  \n",
       "93  FORTALEZA                     3         False        meat  \n",
       "94  FORTALEZA                     2         False         NaN  \n",
       "95      NATAL                     2         False         NaN  \n",
       "96      NATAL                    20          True         NaN  \n",
       "97      NATAL                     1         False         NaN  \n",
       "\n",
       "[98 rows x 8 columns]"
      ]
     },
     "execution_count": 3,
     "metadata": {},
     "output_type": "execute_result"
    }
   ],
   "source": [
    "df"
   ]
  },
  {
   "cell_type": "code",
   "execution_count": 4,
   "id": "f77395b3",
   "metadata": {},
   "outputs": [],
   "source": [
    "df.fillna('unknown', inplace=True)"
   ]
  },
  {
   "cell_type": "code",
   "execution_count": 5,
   "id": "59722202",
   "metadata": {},
   "outputs": [
    {
     "data": {
      "text/html": [
       "<div>\n",
       "<style scoped>\n",
       "    .dataframe tbody tr th:only-of-type {\n",
       "        vertical-align: middle;\n",
       "    }\n",
       "\n",
       "    .dataframe tbody tr th {\n",
       "        vertical-align: top;\n",
       "    }\n",
       "\n",
       "    .dataframe thead th {\n",
       "        text-align: right;\n",
       "    }\n",
       "</style>\n",
       "<table border=\"1\" class=\"dataframe\">\n",
       "  <thead>\n",
       "    <tr style=\"text-align: right;\">\n",
       "      <th></th>\n",
       "      <th>Claim ID</th>\n",
       "      <th>Time to Close</th>\n",
       "      <th>Claim Amount</th>\n",
       "      <th>Amount Paid</th>\n",
       "      <th>Location</th>\n",
       "      <th>Individuals on Claim</th>\n",
       "      <th>Linked Cases</th>\n",
       "      <th>Cause</th>\n",
       "    </tr>\n",
       "  </thead>\n",
       "  <tbody>\n",
       "    <tr>\n",
       "      <th>0</th>\n",
       "      <td>0000000-00.2010.0.00.0094</td>\n",
       "      <td>2082</td>\n",
       "      <td>R$50,000.00</td>\n",
       "      <td>34297.47</td>\n",
       "      <td>RECIFE</td>\n",
       "      <td>2</td>\n",
       "      <td>False</td>\n",
       "      <td>unknown</td>\n",
       "    </tr>\n",
       "    <tr>\n",
       "      <th>1</th>\n",
       "      <td>0000000-00.2011.0.00.0086</td>\n",
       "      <td>3591</td>\n",
       "      <td>R$180,000.00</td>\n",
       "      <td>56383.54</td>\n",
       "      <td>SAO LUIS</td>\n",
       "      <td>7</td>\n",
       "      <td>False</td>\n",
       "      <td>unknown</td>\n",
       "    </tr>\n",
       "    <tr>\n",
       "      <th>2</th>\n",
       "      <td>0000000-00.2012.0.00.0092</td>\n",
       "      <td>2997</td>\n",
       "      <td>R$70,000.00</td>\n",
       "      <td>12366.76</td>\n",
       "      <td>SAO LUIS</td>\n",
       "      <td>3</td>\n",
       "      <td>False</td>\n",
       "      <td>vegetables</td>\n",
       "    </tr>\n",
       "    <tr>\n",
       "      <th>3</th>\n",
       "      <td>0000000-00.2013.0.00.0096</td>\n",
       "      <td>1143</td>\n",
       "      <td>R$95,104.00</td>\n",
       "      <td>29217.16</td>\n",
       "      <td>FORTALEZA</td>\n",
       "      <td>4</td>\n",
       "      <td>False</td>\n",
       "      <td>unknown</td>\n",
       "    </tr>\n",
       "    <tr>\n",
       "      <th>4</th>\n",
       "      <td>0000000-00.2014.0.00.0097</td>\n",
       "      <td>117</td>\n",
       "      <td>R$29,000.00</td>\n",
       "      <td>12610.50</td>\n",
       "      <td>FORTALEZA</td>\n",
       "      <td>1</td>\n",
       "      <td>False</td>\n",
       "      <td>meat</td>\n",
       "    </tr>\n",
       "    <tr>\n",
       "      <th>...</th>\n",
       "      <td>...</td>\n",
       "      <td>...</td>\n",
       "      <td>...</td>\n",
       "      <td>...</td>\n",
       "      <td>...</td>\n",
       "      <td>...</td>\n",
       "      <td>...</td>\n",
       "      <td>...</td>\n",
       "    </tr>\n",
       "    <tr>\n",
       "      <th>93</th>\n",
       "      <td>0000000-00.2020.0.00.0023</td>\n",
       "      <td>208</td>\n",
       "      <td>R$80,396.00</td>\n",
       "      <td>40668.14</td>\n",
       "      <td>FORTALEZA</td>\n",
       "      <td>3</td>\n",
       "      <td>False</td>\n",
       "      <td>meat</td>\n",
       "    </tr>\n",
       "    <tr>\n",
       "      <th>94</th>\n",
       "      <td>0000000-00.2020.0.00.0057</td>\n",
       "      <td>86</td>\n",
       "      <td>R$50,000.00</td>\n",
       "      <td>8363.96</td>\n",
       "      <td>FORTALEZA</td>\n",
       "      <td>2</td>\n",
       "      <td>False</td>\n",
       "      <td>unknown</td>\n",
       "    </tr>\n",
       "    <tr>\n",
       "      <th>95</th>\n",
       "      <td>0000000-00.2020.0.00.0010</td>\n",
       "      <td>201</td>\n",
       "      <td>R$60,000.00</td>\n",
       "      <td>42318.80</td>\n",
       "      <td>NATAL</td>\n",
       "      <td>2</td>\n",
       "      <td>False</td>\n",
       "      <td>unknown</td>\n",
       "    </tr>\n",
       "    <tr>\n",
       "      <th>96</th>\n",
       "      <td>0000000-00.2020.0.00.0059</td>\n",
       "      <td>200</td>\n",
       "      <td>R$474,542.00</td>\n",
       "      <td>329473.49</td>\n",
       "      <td>NATAL</td>\n",
       "      <td>20</td>\n",
       "      <td>True</td>\n",
       "      <td>unknown</td>\n",
       "    </tr>\n",
       "    <tr>\n",
       "      <th>97</th>\n",
       "      <td>0000000-00.2020.0.00.0073</td>\n",
       "      <td>195</td>\n",
       "      <td>R$40,000.00</td>\n",
       "      <td>15406.95</td>\n",
       "      <td>NATAL</td>\n",
       "      <td>1</td>\n",
       "      <td>False</td>\n",
       "      <td>unknown</td>\n",
       "    </tr>\n",
       "  </tbody>\n",
       "</table>\n",
       "<p>98 rows × 8 columns</p>\n",
       "</div>"
      ],
      "text/plain": [
       "                     Claim ID  Time to Close  Claim Amount  Amount Paid  \\\n",
       "0   0000000-00.2010.0.00.0094           2082   R$50,000.00     34297.47   \n",
       "1   0000000-00.2011.0.00.0086           3591  R$180,000.00     56383.54   \n",
       "2   0000000-00.2012.0.00.0092           2997   R$70,000.00     12366.76   \n",
       "3   0000000-00.2013.0.00.0096           1143   R$95,104.00     29217.16   \n",
       "4   0000000-00.2014.0.00.0097            117   R$29,000.00     12610.50   \n",
       "..                        ...            ...           ...          ...   \n",
       "93  0000000-00.2020.0.00.0023            208   R$80,396.00     40668.14   \n",
       "94  0000000-00.2020.0.00.0057             86   R$50,000.00      8363.96   \n",
       "95  0000000-00.2020.0.00.0010            201   R$60,000.00     42318.80   \n",
       "96  0000000-00.2020.0.00.0059            200  R$474,542.00    329473.49   \n",
       "97  0000000-00.2020.0.00.0073            195   R$40,000.00     15406.95   \n",
       "\n",
       "     Location  Individuals on Claim  Linked Cases       Cause  \n",
       "0      RECIFE                     2         False     unknown  \n",
       "1    SAO LUIS                     7         False     unknown  \n",
       "2    SAO LUIS                     3         False  vegetables  \n",
       "3   FORTALEZA                     4         False     unknown  \n",
       "4   FORTALEZA                     1         False        meat  \n",
       "..        ...                   ...           ...         ...  \n",
       "93  FORTALEZA                     3         False        meat  \n",
       "94  FORTALEZA                     2         False     unknown  \n",
       "95      NATAL                     2         False     unknown  \n",
       "96      NATAL                    20          True     unknown  \n",
       "97      NATAL                     1         False     unknown  \n",
       "\n",
       "[98 rows x 8 columns]"
      ]
     },
     "execution_count": 5,
     "metadata": {},
     "output_type": "execute_result"
    }
   ],
   "source": [
    "df"
   ]
  },
  {
   "cell_type": "code",
   "execution_count": 6,
   "id": "a66c26c1",
   "metadata": {},
   "outputs": [],
   "source": [
    "df['Time to Close'] = df['Time to Close'].abs()"
   ]
  },
  {
   "cell_type": "code",
   "execution_count": 7,
   "id": "40a49ec0",
   "metadata": {},
   "outputs": [
    {
     "data": {
      "text/plain": [
       "29"
      ]
     },
     "execution_count": 7,
     "metadata": {},
     "output_type": "execute_result"
    }
   ],
   "source": [
    "df['Time to Close'].min()"
   ]
  },
  {
   "cell_type": "code",
   "execution_count": 8,
   "id": "3aa5db43",
   "metadata": {},
   "outputs": [
    {
     "data": {
      "text/plain": [
       "<AxesSubplot:xlabel='Location', ylabel='count'>"
      ]
     },
     "execution_count": 8,
     "metadata": {},
     "output_type": "execute_result"
    },
    {
     "data": {
      "image/png": "[encoded data removed]",
      "text/plain": [
       "<Figure size 640x480 with 1 Axes>"
      ]
     },
     "metadata": {},
     "output_type": "display_data"
    }
   ],
   "source": [
    "\n",
    "sns.countplot(data=df, x=df['Location'])"
   ]
  },
  {
   "cell_type": "code",
   "execution_count": 9,
   "id": "fa24464c",
   "metadata": {},
   "outputs": [
    {
     "name": "stdout",
     "output_type": "stream",
     "text": [
      "<class 'pandas.core.frame.DataFrame'>\n",
      "RangeIndex: 98 entries, 0 to 97\n",
      "Data columns (total 8 columns):\n",
      " #   Column                Non-Null Count  Dtype  \n",
      "---  ------                --------------  -----  \n",
      " 0   Claim ID              98 non-null     object \n",
      " 1   Time to Close         98 non-null     int64  \n",
      " 2   Claim Amount          98 non-null     object \n",
      " 3   Amount Paid           98 non-null     float64\n",
      " 4   Location              98 non-null     object \n",
      " 5   Individuals on Claim  98 non-null     int64  \n",
      " 6   Linked Cases          98 non-null     bool   \n",
      " 7   Cause                 98 non-null     object \n",
      "dtypes: bool(1), float64(1), int64(2), object(4)\n",
      "memory usage: 5.6+ KB\n"
     ]
    }
   ],
   "source": [
    "df.info()"
   ]
  },
  {
   "cell_type": "code",
   "execution_count": 10,
   "id": "0a15f42f",
   "metadata": {},
   "outputs": [
    {
     "data": {
      "text/plain": [
       "Claim ID                 object\n",
       "Time to Close             int64\n",
       "Claim Amount             object\n",
       "Amount Paid             float64\n",
       "Location                 object\n",
       "Individuals on Claim      int64\n",
       "Linked Cases               bool\n",
       "Cause                    object\n",
       "dtype: object"
      ]
     },
     "execution_count": 10,
     "metadata": {},
     "output_type": "execute_result"
    }
   ],
   "source": [
    "df.dtypes"
   ]
  },
  {
   "cell_type": "code",
   "execution_count": 11,
   "id": "af3a870f",
   "metadata": {},
   "outputs": [],
   "source": [
    "df['Claim Amount'] = df['Claim Amount'].str.strip('R$,')"
   ]
  },
  {
   "cell_type": "code",
   "execution_count": 12,
   "id": "d3e88d70",
   "metadata": {},
   "outputs": [
    {
     "data": {
      "text/plain": [
       "0      50,000.00\n",
       "1     180,000.00\n",
       "2      70,000.00\n",
       "3      95,104.00\n",
       "4      29,000.00\n",
       "         ...    \n",
       "93     80,396.00\n",
       "94     50,000.00\n",
       "95     60,000.00\n",
       "96    474,542.00\n",
       "97     40,000.00\n",
       "Name: Claim Amount, Length: 98, dtype: object"
      ]
     },
     "execution_count": 12,
     "metadata": {},
     "output_type": "execute_result"
    }
   ],
   "source": [
    "df['Claim Amount']"
   ]
  },
  {
   "cell_type": "code",
   "execution_count": 13,
   "id": "cc4ff9ad",
   "metadata": {},
   "outputs": [],
   "source": [
    "df['Claim Amount'] = df['Claim Amount'].str.replace(',', '')"
   ]
  },
  {
   "cell_type": "code",
   "execution_count": 14,
   "id": "3a878155",
   "metadata": {},
   "outputs": [
    {
     "data": {
      "text/plain": [
       "0      50000.00\n",
       "1     180000.00\n",
       "2      70000.00\n",
       "3      95104.00\n",
       "4      29000.00\n",
       "        ...    \n",
       "93     80396.00\n",
       "94     50000.00\n",
       "95     60000.00\n",
       "96    474542.00\n",
       "97     40000.00\n",
       "Name: Claim Amount, Length: 98, dtype: object"
      ]
     },
     "execution_count": 14,
     "metadata": {},
     "output_type": "execute_result"
    }
   ],
   "source": [
    "df['Claim Amount']"
   ]
  },
  {
   "cell_type": "code",
   "execution_count": 15,
   "id": "2e47b09f",
   "metadata": {},
   "outputs": [
    {
     "data": {
      "text/plain": [
       "0      50000.00\n",
       "1     180000.00\n",
       "2      70000.00\n",
       "3      95104.00\n",
       "4      29000.00\n",
       "        ...    \n",
       "93     80396.00\n",
       "94     50000.00\n",
       "95     60000.00\n",
       "96    474542.00\n",
       "97     40000.00\n",
       "Name: Claim Amount, Length: 98, dtype: object"
      ]
     },
     "execution_count": 15,
     "metadata": {},
     "output_type": "execute_result"
    }
   ],
   "source": [
    "df['Claim Amount']"
   ]
  },
  {
   "cell_type": "code",
   "execution_count": 16,
   "id": "7edb7a84",
   "metadata": {},
   "outputs": [],
   "source": [
    "df['Claim Amount'] = df['Claim Amount'].astype('float')"
   ]
  },
  {
   "cell_type": "code",
   "execution_count": 20,
   "id": "0fdcfa90",
   "metadata": {},
   "outputs": [],
   "source": [
    "df['Claim Amount'] = df['Claim Amount'].astype('int')"
   ]
  },
  {
   "cell_type": "code",
   "execution_count": 21,
   "id": "a2bc4b4d",
   "metadata": {},
   "outputs": [
    {
     "data": {
      "text/plain": [
       "0        unknown\n",
       "1        unknown\n",
       "2     vegetables\n",
       "3        unknown\n",
       "4           meat\n",
       "         ...    \n",
       "93          meat\n",
       "94       unknown\n",
       "95       unknown\n",
       "96       unknown\n",
       "97       unknown\n",
       "Name: Cause, Length: 98, dtype: object"
      ]
     },
     "execution_count": 21,
     "metadata": {},
     "output_type": "execute_result"
    }
   ],
   "source": [
    "df['Cause']"
   ]
  },
  {
   "cell_type": "code",
   "execution_count": 22,
   "id": "56cc0084",
   "metadata": {},
   "outputs": [
    {
     "data": {
      "text/plain": [
       "0      50000\n",
       "1     180000\n",
       "2      70000\n",
       "3      95104\n",
       "4      29000\n",
       "       ...  \n",
       "93     80396\n",
       "94     50000\n",
       "95     60000\n",
       "96    474542\n",
       "97     40000\n",
       "Name: Claim Amount, Length: 98, dtype: int64"
      ]
     },
     "execution_count": 22,
     "metadata": {},
     "output_type": "execute_result"
    }
   ],
   "source": [
    "df['Claim Amount']"
   ]
  },
  {
   "cell_type": "code",
   "execution_count": 41,
   "id": "2b63250c",
   "metadata": {},
   "outputs": [],
   "source": [
    "a = df['Claim Amount'] > 600000"
   ]
  },
  {
   "cell_type": "code",
   "execution_count": 42,
   "id": "469bde70",
   "metadata": {},
   "outputs": [
    {
     "data": {
      "text/html": [
       "<div>\n",
       "<style scoped>\n",
       "    .dataframe tbody tr th:only-of-type {\n",
       "        vertical-align: middle;\n",
       "    }\n",
       "\n",
       "    .dataframe tbody tr th {\n",
       "        vertical-align: top;\n",
       "    }\n",
       "\n",
       "    .dataframe thead th {\n",
       "        text-align: right;\n",
       "    }\n",
       "</style>\n",
       "<table border=\"1\" class=\"dataframe\">\n",
       "  <thead>\n",
       "    <tr style=\"text-align: right;\">\n",
       "      <th></th>\n",
       "      <th>Claim ID</th>\n",
       "      <th>Time to Close</th>\n",
       "      <th>Claim Amount</th>\n",
       "      <th>Amount Paid</th>\n",
       "      <th>Location</th>\n",
       "      <th>Individuals on Claim</th>\n",
       "      <th>Linked Cases</th>\n",
       "      <th>Cause</th>\n",
       "    </tr>\n",
       "  </thead>\n",
       "  <tbody>\n",
       "    <tr>\n",
       "      <th>29</th>\n",
       "      <td>0000000-00.2017.0.00.0011</td>\n",
       "      <td>1164</td>\n",
       "      <td>704839</td>\n",
       "      <td>164058.23</td>\n",
       "      <td>RECIFE</td>\n",
       "      <td>30</td>\n",
       "      <td>True</td>\n",
       "      <td>meat</td>\n",
       "    </tr>\n",
       "    <tr>\n",
       "      <th>40</th>\n",
       "      <td>0000000-00.2018.0.00.0098</td>\n",
       "      <td>153</td>\n",
       "      <td>936540</td>\n",
       "      <td>433320.46</td>\n",
       "      <td>NATAL</td>\n",
       "      <td>41</td>\n",
       "      <td>True</td>\n",
       "      <td>unknown</td>\n",
       "    </tr>\n",
       "    <tr>\n",
       "      <th>59</th>\n",
       "      <td>0000000-00.2019.0.00.0009</td>\n",
       "      <td>634</td>\n",
       "      <td>754317</td>\n",
       "      <td>145843.76</td>\n",
       "      <td>NATAL</td>\n",
       "      <td>33</td>\n",
       "      <td>True</td>\n",
       "      <td>meat</td>\n",
       "    </tr>\n",
       "    <tr>\n",
       "      <th>78</th>\n",
       "      <td>0000000-00.2020.0.00.0035</td>\n",
       "      <td>60</td>\n",
       "      <td>736422</td>\n",
       "      <td>558725.77</td>\n",
       "      <td>SAO LUIS</td>\n",
       "      <td>32</td>\n",
       "      <td>True</td>\n",
       "      <td>vegetables</td>\n",
       "    </tr>\n",
       "  </tbody>\n",
       "</table>\n",
       "</div>"
      ],
      "text/plain": [
       "                     Claim ID  Time to Close  Claim Amount  Amount Paid  \\\n",
       "29  0000000-00.2017.0.00.0011           1164        704839    164058.23   \n",
       "40  0000000-00.2018.0.00.0098            153        936540    433320.46   \n",
       "59  0000000-00.2019.0.00.0009            634        754317    145843.76   \n",
       "78  0000000-00.2020.0.00.0035             60        736422    558725.77   \n",
       "\n",
       "    Location  Individuals on Claim  Linked Cases       Cause  \n",
       "29    RECIFE                    30          True        meat  \n",
       "40     NATAL                    41          True     unknown  \n",
       "59     NATAL                    33          True        meat  \n",
       "78  SAO LUIS                    32          True  vegetables  "
      ]
     },
     "execution_count": 42,
     "metadata": {},
     "output_type": "execute_result"
    }
   ],
   "source": [
    "df[a]"
   ]
  },
  {
   "cell_type": "code",
   "execution_count": null,
   "id": "233fefce",
   "metadata": {},
   "outputs": [],
   "source": []
  }
 ],
 "metadata": {
  "kernelspec": {
   "display_name": "Python 3 (ipykernel)",
   "language": "python",
   "name": "python3"
  },
  "language_info": {
   "codemirror_mode": {
    "name": "ipython",
    "version": 3
   },
   "file_extension": ".py",
   "mimetype": "text/x-python",
   "name": "python",
   "nbconvert_exporter": "python",
   "pygments_lexer": "ipython3",
   "version": "3.9.13"
  }
 },
 "nbformat": 4,
 "nbformat_minor": 5
}
